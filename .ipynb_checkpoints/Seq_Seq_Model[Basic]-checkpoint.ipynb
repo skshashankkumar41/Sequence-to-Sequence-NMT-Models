{
 "cells": [
  {
   "cell_type": "code",
   "execution_count": 1,
   "metadata": {
    "colab": {
     "base_uri": "https://localhost:8080/",
     "height": 122
    },
    "colab_type": "code",
    "id": "D8cKM-D17Lzs",
    "outputId": "fbaafbcb-6358-4e09-d140-0eab8433ab86"
   },
   "outputs": [
    {
     "name": "stdout",
     "output_type": "stream",
     "text": [
      "Go to this URL in a browser: https://accounts.google.com/o/oauth2/auth?client_id=947318989803-6bn6qk8qdgf4n4g3pfee6491hc0brc4i.apps.googleusercontent.com&redirect_uri=urn%3aietf%3awg%3aoauth%3a2.0%3aoob&response_type=code&scope=email%20https%3a%2f%2fwww.googleapis.com%2fauth%2fdocs.test%20https%3a%2f%2fwww.googleapis.com%2fauth%2fdrive%20https%3a%2f%2fwww.googleapis.com%2fauth%2fdrive.photos.readonly%20https%3a%2f%2fwww.googleapis.com%2fauth%2fpeopleapi.readonly\n",
      "\n",
      "Enter your authorization code:\n",
      "··········\n",
      "Mounted at /content/drive\n"
     ]
    }
   ],
   "source": [
    "# some google colab stuff \n",
    "from google.colab import drive\n",
    "\n",
    "drive.mount('/content/drive')"
   ]
  },
  {
   "cell_type": "code",
   "execution_count": 16,
   "metadata": {
    "colab": {
     "base_uri": "https://localhost:8080/",
     "height": 54
    },
    "colab_type": "code",
    "id": "kQnK553kh5-5",
    "outputId": "95bd7ef5-2210-4e5f-d83f-32011f5cc66c"
   },
   "outputs": [
    {
     "name": "stdout",
     "output_type": "stream",
     "text": [
      "['Wow!\\tवाह!\\tCC-BY 2.0 (France) Attribution: tatoeba.org #52027 (Zifre) & #6179147 (fastrizwaan)', 'Help!\\tबचाओ!\\tCC-BY 2.0 (France) Attribution: tatoeba.org #435084 (lukaszpp) & #459377 (minshirui)']\n"
     ]
    }
   ],
   "source": [
    "import codecs\n",
    "from tqdm import tqdm \n",
    "import random \n",
    "\n",
    "with codecs.open('/content/drive/My Drive/colab/hin.txt', 'r', encoding='utf-8') as f:\n",
    "    lines = f.read().split('\\n')\n",
    "\n",
    "print(lines[:2])"
   ]
  },
  {
   "cell_type": "code",
   "execution_count": 2,
   "metadata": {
    "colab": {
     "base_uri": "https://localhost:8080/",
     "height": 34
    },
    "colab_type": "code",
    "id": "vRJ9wffK7XnD",
    "outputId": "5803ad31-2416-4ace-e2db-d4a78c692f3e"
   },
   "outputs": [
    {
     "name": "stderr",
     "output_type": "stream",
     "text": [
      "100%|██████████| 2779/2779 [00:00<00:00, 7799.01it/s]\n"
     ]
    }
   ],
   "source": [
    "input_texts = []\n",
    "target_texts = []\n",
    "input_words = []\n",
    "target_words = []\n",
    "\n",
    "with codecs.open('/content/drive/My Drive/colab/hin.txt', 'r', encoding='utf-8') as f:\n",
    "    lines = f.read().split('\\n')\n",
    "    #random.shuffle(lines)\n",
    "    \n",
    "    #for line in tqdm(lines[:min(10e13,len(lines) - 1)][:40000]):\n",
    "    for line in tqdm(lines):\n",
    "        if len(line.split('\\t')) >= 2:\n",
    "            # As input and target texts are seperated by tab \n",
    "            input_text, target_text = line.split('\\t')[:2]\n",
    "            # Adding starting of sequence as '\\t' and ending of sequence as '\\n'\n",
    "            target_text = '\\t ' + target_text + ' \\n'\n",
    "            \n",
    "            input_texts.append(input_text)\n",
    "            target_texts.append(target_text)\n",
    "            \n",
    "            # creating list of words for input and target sentences\n",
    "            for word in input_text.split(\" \"):\n",
    "                if word not in input_words:\n",
    "                    input_words.append(word)\n",
    "                    \n",
    "            for word in target_text.split(\" \"):\n",
    "                if word not in target_words:\n",
    "                    target_words.append(word)"
   ]
  },
  {
   "cell_type": "code",
   "execution_count": 0,
   "metadata": {
    "colab": {},
    "colab_type": "code",
    "id": "4cMM6cF0G_ly"
   },
   "outputs": [],
   "source": [
    "target_words = sorted(target_words)"
   ]
  },
  {
   "cell_type": "code",
   "execution_count": 0,
   "metadata": {
    "colab": {},
    "colab_type": "code",
    "id": "FNZSbuBxGFs2"
   },
   "outputs": [],
   "source": [
    "input_words = sorted(input_words)"
   ]
  },
  {
   "cell_type": "code",
   "execution_count": 0,
   "metadata": {
    "colab": {},
    "colab_type": "code",
    "id": "GJQ_Ei-bG_i2"
   },
   "outputs": [],
   "source": [
    "num_encoder_words = len(input_words)\n",
    "num_decoder_words = len(target_words)\n"
   ]
  },
  {
   "cell_type": "code",
   "execution_count": 8,
   "metadata": {
    "colab": {
     "base_uri": "https://localhost:8080/",
     "height": 51
    },
    "colab_type": "code",
    "id": "4MWdCu70Tajn",
    "outputId": "3744833c-c0b9-4bd8-fdd3-d66f1a36c675"
   },
   "outputs": [
    {
     "name": "stdout",
     "output_type": "stream",
     "text": [
      "3458\n",
      "3117\n"
     ]
    }
   ],
   "source": [
    "print(num_encoder_words)\n",
    "print(num_decoder_words)"
   ]
  },
  {
   "cell_type": "code",
   "execution_count": 0,
   "metadata": {
    "colab": {},
    "colab_type": "code",
    "id": "wZmdobhXG_fu"
   },
   "outputs": [],
   "source": [
    "# maximum length of encoder and decoder inputs \n",
    "max_encoder_seq_len = max([len(i.split(' ')) for i in input_texts])\n",
    "max_decoder_seq_len = max([len(i.split(' ')) for i in target_texts])"
   ]
  },
  {
   "cell_type": "code",
   "execution_count": 10,
   "metadata": {
    "colab": {
     "base_uri": "https://localhost:8080/",
     "height": 51
    },
    "colab_type": "code",
    "id": "uzhZLypATbLM",
    "outputId": "ebd562d1-fc9f-4380-d47f-94745e3c579f"
   },
   "outputs": [
    {
     "name": "stdout",
     "output_type": "stream",
     "text": [
      "22\n",
      "27\n"
     ]
    }
   ],
   "source": [
    "print(max_encoder_seq_len)\n",
    "print(max_decoder_seq_len)"
   ]
  },
  {
   "cell_type": "code",
   "execution_count": 0,
   "metadata": {
    "colab": {},
    "colab_type": "code",
    "id": "Z4tf3VBjG_ei"
   },
   "outputs": [],
   "source": [
    "# dictionary for index of words to transform text into vectors representing index \n",
    "input_word_index = { word: i for i,word in enumerate(input_words)}\n",
    "reverse_input_word_index = { i:word for i,word in enumerate(input_words)}\n",
    "target_word_index = { word: i for i,word in enumerate(target_words)}\n",
    "reverse_target_word_index = { i:word for i,word in enumerate(target_words)}"
   ]
  },
  {
   "cell_type": "code",
   "execution_count": 0,
   "metadata": {
    "colab": {},
    "colab_type": "code",
    "id": "8XhBSyzCG_bO"
   },
   "outputs": [],
   "source": [
    "# Creating empty vectors for representing texts\n",
    "import numpy as np\n",
    "encoder_input_data = np.zeros((len(input_texts),max_encoder_seq_len),dtype = 'float32')\n",
    "decoder_input_data = np.zeros((len(input_texts),max_decoder_seq_len),dtype = 'float32')\n",
    "decoder_target_data = np.zeros((len(input_texts),max_decoder_seq_len,1),dtype = 'float32')"
   ]
  },
  {
   "cell_type": "code",
   "execution_count": 13,
   "metadata": {
    "colab": {
     "base_uri": "https://localhost:8080/",
     "height": 34
    },
    "colab_type": "code",
    "id": "udhK2VkDG_X-",
    "outputId": "357f62f2-3c26-4306-e0f3-d2e5e6a62dbc"
   },
   "outputs": [
    {
     "name": "stderr",
     "output_type": "stream",
     "text": [
      "2778it [00:00, 62291.31it/s]\n"
     ]
    }
   ],
   "source": [
    "# Assigning index of word in the empty vectors created above \n",
    "for i, (input_text,target_text) in tqdm(enumerate(zip(input_texts,target_texts))):\n",
    "    for t, word in enumerate(input_text.split(\" \")):\n",
    "        try:\n",
    "            encoder_input_data[i][t] = input_word_index[word]\n",
    "        except:\n",
    "            encoder_input_data[i][t] = num_encoder_words\n",
    "            \n",
    "    for t, word in enumerate(target_text.split(\" \")):\n",
    "        try:\n",
    "            decoder_input_data[i][t] = target_word_index[word]\n",
    "        except:\n",
    "            decoder_input_data[i][t] = num_decoder_words\n",
    "        # as for decoder target data we want to neglect starting word as it will be predicted by encoder genereated context vector    \n",
    "        if t > 0:\n",
    "            try:\n",
    "                decoder_target_data[i][t - 1] = target_word_index[word]\n",
    "            except:\n",
    "                 decoder_target_data[i][t - 1] = num_decoder_words\n",
    "                    \n",
    "eng_embedding = np.zeros((num_encoder_words + 1,128))\n",
    "fre_embedding = np.zeros((num_decoder_words + 1,128))"
   ]
  },
  {
   "cell_type": "code",
   "execution_count": 14,
   "metadata": {
    "colab": {
     "base_uri": "https://localhost:8080/",
     "height": 34
    },
    "colab_type": "code",
    "id": "2Dj5H33RHJDE",
    "outputId": "d9f646f0-34d6-463f-a90f-6051f6a065c5"
   },
   "outputs": [
    {
     "name": "stderr",
     "output_type": "stream",
     "text": [
      "Using TensorFlow backend.\n"
     ]
    }
   ],
   "source": [
    "import keras \n",
    "from keras.preprocessing.text import Tokenizer\n",
    "from keras.preprocessing.sequence import pad_sequences\n",
    "from keras.models import Sequential\n",
    "from keras.layers import Dense\n",
    "from keras.layers import Flatten\n",
    "from keras.layers import Embedding\n",
    "from keras.layers import LSTM, BatchNormalization,concatenate,Flatten,Embedding,Dense,Dropout,Reshape,SpatialDropout1D\n",
    "from keras import Model,Input\n"
   ]
  },
  {
   "cell_type": "code",
   "execution_count": 0,
   "metadata": {
    "colab": {
     "base_uri": "https://localhost:8080/",
     "height": 802
    },
    "colab_type": "code",
    "id": "6AJenRYKHI_i",
    "outputId": "cf48a0a9-4244-448d-9d4f-c7a2ae441f52"
   },
   "outputs": [
    {
     "name": "stderr",
     "output_type": "stream",
     "text": [
      "/usr/local/lib/python3.6/dist-packages/ipykernel_launcher.py:32: UserWarning: Update your `Model` call to the Keras 2 API: `Model(inputs=[<tf.Tenso..., outputs=[<tf.Tenso...)`\n",
      "/usr/local/lib/python3.6/dist-packages/tensorflow/python/framework/indexed_slices.py:434: UserWarning: Converting sparse IndexedSlices to a dense Tensor of unknown shape. This may consume a large amount of memory.\n",
      "  \"Converting sparse IndexedSlices to a dense Tensor of unknown shape. \"\n"
     ]
    },
    {
     "name": "stdout",
     "output_type": "stream",
     "text": [
      "Train on 2222 samples, validate on 556 samples\n",
      "Epoch 1/20\n",
      "2222/2222 [==============================] - 6s 3ms/step - loss: 2.4431 - val_loss: 2.9026\n",
      "Epoch 2/20\n",
      "2222/2222 [==============================] - 6s 3ms/step - loss: 1.5282 - val_loss: 2.6116\n",
      "Epoch 3/20\n",
      "2222/2222 [==============================] - 6s 3ms/step - loss: 1.4199 - val_loss: 2.5894\n",
      "Epoch 4/20\n",
      "2222/2222 [==============================] - 6s 3ms/step - loss: 1.3655 - val_loss: 2.6134\n",
      "Epoch 5/20\n",
      "2222/2222 [==============================] - 6s 3ms/step - loss: 1.3290 - val_loss: 2.6116\n",
      "Epoch 6/20\n",
      "2222/2222 [==============================] - 6s 3ms/step - loss: 1.2981 - val_loss: 2.5749\n",
      "Epoch 7/20\n",
      "2222/2222 [==============================] - 6s 3ms/step - loss: 1.2699 - val_loss: 2.5994\n",
      "Epoch 8/20\n",
      "2222/2222 [==============================] - 6s 3ms/step - loss: 1.2434 - val_loss: 2.5844\n",
      "Epoch 9/20\n",
      "2222/2222 [==============================] - 6s 3ms/step - loss: 1.2198 - val_loss: 2.5754\n",
      "Epoch 10/20\n",
      "2222/2222 [==============================] - 6s 3ms/step - loss: 1.1988 - val_loss: 2.5776\n",
      "Epoch 11/20\n",
      "2222/2222 [==============================] - 6s 3ms/step - loss: 1.1774 - val_loss: 2.5744\n",
      "Epoch 12/20\n",
      "2222/2222 [==============================] - 6s 3ms/step - loss: 1.1580 - val_loss: 2.5692\n",
      "Epoch 13/20\n",
      "2222/2222 [==============================] - 6s 3ms/step - loss: 1.1388 - val_loss: 2.5805\n",
      "Epoch 14/20\n",
      "2222/2222 [==============================] - 6s 3ms/step - loss: 1.1207 - val_loss: 2.5852\n",
      "Epoch 15/20\n",
      "2222/2222 [==============================] - 6s 3ms/step - loss: 1.1010 - val_loss: 2.5992\n",
      "Epoch 16/20\n",
      "2222/2222 [==============================] - 6s 3ms/step - loss: 1.0811 - val_loss: 2.6076\n",
      "Epoch 17/20\n",
      "2222/2222 [==============================] - 6s 3ms/step - loss: 1.0610 - val_loss: 2.6123\n",
      "Epoch 18/20\n",
      "2222/2222 [==============================] - 6s 3ms/step - loss: 1.0403 - val_loss: 2.6330\n",
      "Epoch 19/20\n",
      "2222/2222 [==============================] - 6s 3ms/step - loss: 1.0214 - val_loss: 2.6265\n",
      "Epoch 20/20\n",
      "2222/2222 [==============================] - 6s 3ms/step - loss: 1.0025 - val_loss: 2.6025\n"
     ]
    },
    {
     "data": {
      "text/plain": [
       "<keras.callbacks.callbacks.History at 0x7f654f703cf8>"
      ]
     },
     "execution_count": 25,
     "metadata": {
      "tags": []
     },
     "output_type": "execute_result"
    }
   ],
   "source": [
    "embedding_dims = 128\n",
    "latent_dims = 128\n",
    "#encoder model\n",
    "encoder_inp = Input(shape = (None,), name = 'encoder_inp')\n",
    "encoder_inp_1 = Embedding(num_encoder_words+1, embedding_dims,weights = [eng_embedding])(encoder_inp)\n",
    "encoder = LSTM(latent_dims, return_state= True, name = 'encoder')\n",
    "encoder_out, state_h, state_c = encoder(encoder_inp_1)\n",
    "encoder_states = [state_h, state_c]\n",
    "\n",
    "#decoder model\n",
    "decoder_inp = Input(shape = (None,), name = 'decoder_inp')\n",
    "decoder_inp_1 = Embedding(num_decoder_words+1, embedding_dims, weights = [fre_embedding])(decoder_inp)\n",
    "decoder_lstm = LSTM(latent_dims, return_state = True, return_sequences= True, name = 'decoder_lstm')\n",
    "decoder_out, _ , _ = decoder_lstm(decoder_inp_1, initial_state = encoder_states)\n",
    "decoder_dense = Dense(num_decoder_words, activation='softmax', name = 'decoder_dense')\n",
    "decoder_out = decoder_dense(decoder_out)\n",
    "\n",
    "#combined encoder decoder model \n",
    "model = Model([encoder_inp, decoder_inp], decoder_out)\n",
    "\n",
    "#encoder model \n",
    "encoder_model = Model(encoder_inp,encoder_states)\n",
    "\n",
    "#decoder model \n",
    "\n",
    "decoder_inp_h = Input((latent_dims,))\n",
    "decoder_inp_c = Input((latent_dims,))\n",
    "decoder_inp_states = [decoder_inp_h, decoder_inp_c]\n",
    "decoder_out, decoder_out_h, decoder_out_c = decoder_lstm(decoder_inp_1, initial_state = decoder_inp_states)\n",
    "decoder_out = decoder_dense(decoder_out)\n",
    "decoder_out_states = [decoder_out_h, decoder_out_c]\n",
    "decoder_model = Model(inputs = [decoder_inp] + decoder_inp_states, output =[decoder_out]+ decoder_out_states )\n",
    "\n",
    "model.compile(optimizer='rmsprop',loss='sparse_categorical_crossentropy')\n",
    "\n",
    "model.fit([encoder_input_data, decoder_input_data],decoder_target_data,batch_size=32,epochs=20,validation_split=0.2)\n",
    "\n",
    "#model.save('eng_2_french_dumm.h5')"
   ]
  },
  {
   "cell_type": "code",
   "execution_count": 0,
   "metadata": {
    "colab": {},
    "colab_type": "code",
    "id": "LUswYdywb1s_"
   },
   "outputs": [],
   "source": [
    "# model.save('/content/drive/My Drive/colab/eng_2_french_dumm.h5')\n",
    "# encoder_model.save('/content/drive/My Drive/colab/eng_2_french_encoder_model.h5')\n",
    "# decoder_model.save('/content/drive/My Drive/colab/eng_2_french_decoder_model.h5')"
   ]
  },
  {
   "cell_type": "code",
   "execution_count": 0,
   "metadata": {
    "colab": {},
    "colab_type": "code",
    "id": "j3u6H9UgHI9q"
   },
   "outputs": [],
   "source": [
    "# creating a testing function to predict output given english sentence\n",
    "def decode_sequence(input_sentence,encoder_model,decoder_model):\n",
    "    encoder_input_data = np.zeros((len(input_sentence),max_encoder_seq_len),dtype = 'float32')\n",
    "    # converting the english sentence to model required vector using word indexes\n",
    "    for i, input_text in tqdm(enumerate(input_sentence)):\n",
    "        for t, word in enumerate(input_text.split(\" \")):\n",
    "            try:\n",
    "                encoder_input_data[i][t] = input_word_index[word]\n",
    "            except:\n",
    "                encoder_input_data[i][t] = num_encoder_words\n",
    "    # calculating the context vector for the first word prediciton            \n",
    "    states_value = encoder_model.predict(encoder_input_data)\n",
    "    \n",
    "    target_seq = np.zeros((1,1))\n",
    "    # As for the first time model will predict using context vector and '\\t' [Start of Sequence]\n",
    "    target_seq[0][0] = target_word_index['\\t']\n",
    "    stop_condition = False\n",
    "    decoded_sentence = ''\n",
    "    \n",
    "    while not stop_condition:\n",
    "        output_word,h, c = decoder_model.predict([target_seq] + states_value)\n",
    "        \n",
    "        sampled_word_index = np.argmax(output_word[0, -1, :])\n",
    "        try:\n",
    "            sampled_char = reverse_target_word_index[sampled_word_index]\n",
    "        except:\n",
    "            sampled_char = '<unknown>'\n",
    "        \n",
    "        decoded_sentence = decoded_sentence + ' ' + sampled_char\n",
    "        \n",
    "        if (sampled_char == '\\n' or len(decoded_sentence) > max_decoder_seq_len):\n",
    "                stop_condition = True\n",
    "                \n",
    "        target_seq = np.zeros((1, 1))\n",
    "        target_seq[0, 0] = sampled_word_index\n",
    "\n",
    "        states_value = [h, c]\n",
    "    decoded_sentence = decoded_sentence.replace(' \\n','').replace('\\n','')\n",
    "    return decoded_sentence\n"
   ]
  },
  {
   "cell_type": "code",
   "execution_count": 0,
   "metadata": {
    "colab": {
     "base_uri": "https://localhost:8080/",
     "height": 51
    },
    "colab_type": "code",
    "id": "j0WaByslHI65",
    "outputId": "e519b651-8027-459c-b989-2c702c81471b"
   },
   "outputs": [
    {
     "name": "stderr",
     "output_type": "stream",
     "text": [
      "1it [00:00, 1628.22it/s]\n"
     ]
    },
    {
     "data": {
      "text/plain": [
       "' मैं तुमसे प्यार हूँ।'"
      ]
     },
     "execution_count": 31,
     "metadata": {
      "tags": []
     },
     "output_type": "execute_result"
    }
   ],
   "source": [
    "decode_sequence([\"I Love You.\"],encoder_model,decoder_model)"
   ]
  },
  {
   "cell_type": "code",
   "execution_count": 0,
   "metadata": {
    "colab": {},
    "colab_type": "code",
    "id": "68bYQKqTHI5R"
   },
   "outputs": [],
   "source": [
    "# Model not working even on train data, need to tune some parameters or use some advanced architectures "
   ]
  },
  {
   "cell_type": "code",
   "execution_count": 0,
   "metadata": {
    "colab": {},
    "colab_type": "code",
    "id": "YGAYvi9OHI1s"
   },
   "outputs": [],
   "source": []
  },
  {
   "cell_type": "code",
   "execution_count": 0,
   "metadata": {
    "colab": {},
    "colab_type": "code",
    "id": "4BHac_fEHIy6"
   },
   "outputs": [],
   "source": []
  },
  {
   "cell_type": "code",
   "execution_count": 0,
   "metadata": {
    "colab": {},
    "colab_type": "code",
    "id": "7AoNTov4G_WV"
   },
   "outputs": [],
   "source": []
  },
  {
   "cell_type": "code",
   "execution_count": 0,
   "metadata": {
    "colab": {},
    "colab_type": "code",
    "id": "lMkLTbdhG_Td"
   },
   "outputs": [],
   "source": []
  }
 ],
 "metadata": {
  "accelerator": "GPU",
  "colab": {
   "collapsed_sections": [],
   "name": "Seq-Seq_Model[Basic].ipynb",
   "provenance": []
  },
  "kernelspec": {
   "display_name": "Python 3",
   "language": "python",
   "name": "python3"
  },
  "language_info": {
   "codemirror_mode": {
    "name": "ipython",
    "version": 3
   },
   "file_extension": ".py",
   "mimetype": "text/x-python",
   "name": "python",
   "nbconvert_exporter": "python",
   "pygments_lexer": "ipython3",
   "version": "3.7.4"
  }
 },
 "nbformat": 4,
 "nbformat_minor": 1
}
